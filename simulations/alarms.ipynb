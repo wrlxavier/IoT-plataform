{
 "cells": [
  {
   "cell_type": "markdown",
   "metadata": {},
   "source": [
    "### Simulando alarmes\n",
    "Código para publicar mensagens no tópico de alarmes"
   ]
  },
  {
   "cell_type": "code",
   "execution_count": null,
   "metadata": {},
   "outputs": [],
   "source": [
    "import paho.mqtt.client as mqtt\n",
    "import time\n",
    "import random\n",
    "import json\n",
    "from datetime import datetime\n",
    "\n",
    "# Configurações do MQTT\n",
    "MQTT_BROKER = 'www.maqiatto.com'\n",
    "MQTT_PORT = 1883\n",
    "MQTT_USER = 'lucasl050503@gmail.com'\n",
    "MQTT_PASSWORD = '123456'\n",
    "\n",
    "# Função para quando o cliente se conectar\n",
    "def on_connect(client, userdata, flags, rc):\n",
    "    print(\"Conectado com sucesso. Código de resultado:\", rc)\n",
    "\n",
    "# Configuração do cliente MQTT para publicação\n",
    "client = mqtt.Client()\n",
    "client.username_pw_set(MQTT_USER, MQTT_PASSWORD)\n",
    "client.on_connect = on_connect\n",
    "\n",
    "client.connect(MQTT_BROKER, MQTT_PORT, 60)\n",
    "\n",
    "client.loop_start()\n",
    "\n",
    "try:\n",
    "    while True:\n",
    "\n",
    "        temperature = round(random.uniform(10.0, 40.0), 1)  # Temperatura entre 10.0 e 40.0\n",
    "        timestamp = datetime.utcnow().isoformat()\n",
    "\n",
    "        alarm_message = json.dumps({\n",
    "            \"timestamp\": timestamp,\n",
    "            \"upi\": 1,\n",
    "            \"alarm_type\": \"temperature\",\n",
    "            \"value\": temperature\n",
    "        })\n",
    "\n",
    "        client.publish(\"lucasl050503@gmail.com/alarm\", alarm_message)\n",
    "        print(f\"Mensagem publicada no tópico 'moisture': {alarm_message}\")\n",
    "\n",
    "        time.sleep(5)\n",
    "\n",
    "except KeyboardInterrupt:\n",
    "    print(\"Interrompido pelo usuário\")\n",
    "\n",
    "finally:\n",
    "    client.loop_stop()\n",
    "    client.disconnect()"
   ]
  }
 ],
 "metadata": {
  "language_info": {
   "name": "python"
  }
 },
 "nbformat": 4,
 "nbformat_minor": 2
}
