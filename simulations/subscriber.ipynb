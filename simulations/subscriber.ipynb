{
 "cells": [
  {
   "cell_type": "markdown",
   "metadata": {},
   "source": [
    "### Visualização das mensagens que chegam nos tópicos\n",
    "OBS: neste código, não foi implementado sistema de enfileiramento de mensagens ou threads"
   ]
  },
  {
   "cell_type": "code",
   "execution_count": null,
   "metadata": {},
   "outputs": [],
   "source": [
    "import paho.mqtt.client as mqtt\n",
    "\n",
    "MQTT_BROKER = 'www.maqiatto.com'\n",
    "MQTT_PORT = 1883\n",
    "MQTT_USER = 'lucasl050503@gmail.com'\n",
    "MQTT_PASSWORD = '123456'\n",
    "\n",
    "\n",
    "def on_connect(client, userdata, flags, rc):\n",
    "    print(\"Conectado com sucesso. Código de resultado:\", rc)\n",
    "    client.subscribe(\"lucasl050503@gmail.com/UPI1/moisture\")\n",
    "    client.subscribe(\"lucasl050503@gmail.com/UPI1/temperature\")\n",
    "    client.subscribe(\"lucasl050503@gmail.com/UPI2/moisture\")\n",
    "    client.subscribe(\"lucasl050503@gmail.com/UPI2/temperature\")\n",
    "    client.subscribe(\"lucasl050503@gmail.com/alarm\")\n",
    "\n",
    "def on_message(client, userdata, msg):\n",
    "    print(f\"Recebido mensagem em {msg.topic}: {msg.payload.decode()}\")\n",
    "\n",
    "\n",
    "client = mqtt.Client()\n",
    "client.username_pw_set(MQTT_USER, MQTT_PASSWORD)\n",
    "client.on_connect = on_connect\n",
    "client.on_message = on_message\n",
    "\n",
    "client.connect(MQTT_BROKER, MQTT_PORT, 60)\n",
    "\n",
    "client.loop_forever()"
   ]
  }
 ],
 "metadata": {
  "language_info": {
   "name": "python"
  }
 },
 "nbformat": 4,
 "nbformat_minor": 2
}
