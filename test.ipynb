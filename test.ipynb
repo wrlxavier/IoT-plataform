{
 "cells": [
  {
   "cell_type": "code",
   "execution_count": 21,
   "metadata": {},
   "outputs": [],
   "source": [
    "import psycopg2\n",
    "\n",
    "def execute_sql_script(db_params, sql_file_path):\n",
    "    # Conectar ao banco de dados\n",
    "    try:\n",
    "        conn = psycopg2.connect(**db_params)\n",
    "        cursor = conn.cursor()\n",
    "        \n",
    "        # Ler o conteúdo do arquivo SQL\n",
    "        with open(sql_file_path, 'r') as file:\n",
    "            sql_script = file.read()\n",
    "        \n",
    "        # Executar o script SQL\n",
    "        cursor.execute(sql_script)\n",
    "        \n",
    "        # Confirmar as alterações\n",
    "        conn.commit()\n",
    "        print(\"Script SQL executado com sucesso.\")\n",
    "    \n",
    "    except Exception as e:\n",
    "        print(f\"Erro ao executar o script SQL: {e}\")\n",
    "    \n",
    "    finally:\n",
    "        # Fechar a conexão\n",
    "        if cursor:\n",
    "            cursor.close()\n",
    "        if conn:\n",
    "            conn.close()\n",
    "\n"
   ]
  },
  {
   "cell_type": "code",
   "execution_count": 36,
   "metadata": {},
   "outputs": [
    {
     "name": "stdout",
     "output_type": "stream",
     "text": [
      "Interrompido pelo usuário.\n"
     ]
    }
   ],
   "source": [
    "import psycopg2\n",
    "import random\n",
    "import time\n",
    "from datetime import datetime\n",
    "import pytz\n",
    "\n",
    "# Configurações de conexão com o banco de dados\n",
    "HOST = \"localhost\"\n",
    "PORT = 5432\n",
    "USER = \"admin\"\n",
    "PASSWORD = \"admin\"\n",
    "DATABASE = \"postgres\"  # Substitua pelo nome do seu banco de dados\n",
    "\n",
    "# Conecta ao banco de dados\n",
    "conn = psycopg2.connect(\n",
    "    host=HOST,\n",
    "    port=PORT,\n",
    "    user=USER,\n",
    "    password=PASSWORD,\n",
    "    dbname=DATABASE\n",
    ")\n",
    "cur = conn.cursor()\n",
    "\n",
    "# Função para gerar e armazenar dados a cada 400 milissegundos\n",
    "def gerar_e_armazenar_dados():\n",
    "    tz = pytz.timezone('America/Sao_Paulo')  # Ajuste para o seu fuso horário local\n",
    "    try:\n",
    "        while True:\n",
    "            timestamp = datetime.now().astimezone(tz)  # Converte para o fuso horário local\n",
    "            temperatura = round(random.uniform(-10, 35), 2)  # Temperatura entre -10 e 35 graus Celsius\n",
    "            umidade = round(random.uniform(0, 100), 2)  # Umidade entre 0 e 100%\n",
    "            \n",
    "            # Insere os dados nas tabelas\n",
    "            cur.execute(\"INSERT INTO temperatura (time, value) VALUES (%s, %s)\", (timestamp, temperatura))\n",
    "            cur.execute(\"INSERT INTO umidade (time, value) VALUES (%s, %s)\", (timestamp, umidade))\n",
    "            \n",
    "            conn.commit()  # Confirma a transação\n",
    "            \n",
    "            time.sleep(0.4)  # Aguarda 400 milissegundos (0.4 segundos)\n",
    "    except KeyboardInterrupt:\n",
    "        print(\"Interrompido pelo usuário.\")\n",
    "\n",
    "# Gera e armazena dados continuamente\n",
    "gerar_e_armazenar_dados()\n",
    "\n",
    "# Fecha a conexão (não será alcançado a menos que o loop seja interrompido)\n",
    "cur.close()\n",
    "conn.close()\n"
   ]
  }
 ],
 "metadata": {
  "kernelspec": {
   "display_name": "temp",
   "language": "python",
   "name": "python3"
  },
  "language_info": {
   "codemirror_mode": {
    "name": "ipython",
    "version": 3
   },
   "file_extension": ".py",
   "mimetype": "text/x-python",
   "name": "python",
   "nbconvert_exporter": "python",
   "pygments_lexer": "ipython3",
   "version": "3.11.9"
  }
 },
 "nbformat": 4,
 "nbformat_minor": 2
}
