{
 "cells": [
  {
   "cell_type": "code",
   "execution_count": 1,
   "metadata": {},
   "outputs": [
    {
     "name": "stdout",
     "output_type": "stream",
     "text": [
      "Iniciando cálculo de números primos...\n",
      "\n",
      "Tempo total de execução: 116.65 segundos\n"
     ]
    }
   ],
   "source": [
    "import time\n",
    "\n",
    "def is_prime(n):\n",
    "    \"\"\"Verifica se um número é primo.\"\"\"\n",
    "    if n <= 1:\n",
    "        return False\n",
    "    if n <= 3:\n",
    "        return True\n",
    "    if n % 2 == 0 or n % 3 == 0:\n",
    "        return False\n",
    "    i = 5\n",
    "    while i * i <= n:\n",
    "        if n % i == 0 or n % (i + 2) == 0:\n",
    "            return False\n",
    "        i += 6\n",
    "    return True\n",
    "\n",
    "def prime_number_calculator():\n",
    "    \"\"\"Calcula números primos indefinidamente.\"\"\"\n",
    "    num = 2\n",
    "    while True:\n",
    "        if is_prime(num):\n",
    "            pass  # Apenas calcula números primos\n",
    "        num += 1\n",
    "\n",
    "def main():\n",
    "    \"\"\"Executa o cálculo de números primos e mede o tempo de execução.\"\"\"\n",
    "    try:\n",
    "        print(\"Iniciando cálculo de números primos...\")\n",
    "        start_time = time.time()\n",
    "        prime_number_calculator()\n",
    "    except KeyboardInterrupt:\n",
    "        end_time = time.time()\n",
    "        print(f\"\\nTempo total de execução: {end_time - start_time:.2f} segundos\")\n",
    "\n",
    "if __name__ == \"__main__\":\n",
    "    main()\n"
   ]
  }
 ],
 "metadata": {
  "kernelspec": {
   "display_name": "temp",
   "language": "python",
   "name": "python3"
  },
  "language_info": {
   "codemirror_mode": {
    "name": "ipython",
    "version": 3
   },
   "file_extension": ".py",
   "mimetype": "text/x-python",
   "name": "python",
   "nbconvert_exporter": "python",
   "pygments_lexer": "ipython3",
   "version": "3.11.9"
  }
 },
 "nbformat": 4,
 "nbformat_minor": 2
}
